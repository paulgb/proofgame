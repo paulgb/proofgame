{
 "cells": [
  {
   "cell_type": "markdown",
   "metadata": {},
   "source": [
    "Proof:\n",
    "    - hypothesis\n",
    "    - axiom (provide values for a, b, c, no need for them to be proven)\n",
    "    - MP (provide both parts, must be proven)"
   ]
  },
  {
   "cell_type": "code",
   "execution_count": 1,
   "metadata": {},
   "outputs": [],
   "source": [
    "from collections import OrderedDict"
   ]
  },
  {
   "cell_type": "code",
   "execution_count": 2,
   "metadata": {},
   "outputs": [],
   "source": [
    "class Proof(list):\n",
    "    def __repr__(self):\n",
    "        def repr_proof_step(step):\n",
    "            if isinstance(step, str):\n",
    "                return step\n",
    "            elif isinstance(step, tuple):\n",
    "                mp, p1, p2 = step\n",
    "                assert mp == 'mp'\n",
    "                return 'Application of MP to B{} and B{}'.format(p1, p2)\n",
    "        \n",
    "        return '\\n'.join(\n",
    "            'B{}: {} \\n    {}'.format(i, st, repr_proof_step(proof_step))\n",
    "                for i, st, proof_step in self\n",
    "        )"
   ]
  },
  {
   "cell_type": "code",
   "execution_count": 3,
   "metadata": {},
   "outputs": [],
   "source": [
    "class Statement:\n",
    "    @property\n",
    "    def proof(self):\n",
    "        statements = OrderedDict()\n",
    "        \n",
    "        def visit_statement(statement):\n",
    "            if statement in statements:\n",
    "                return statements[statement][0]\n",
    "\n",
    "            if isinstance(statement.step_proof, tuple):\n",
    "                (mp, s1, s2) = statement.step_proof\n",
    "                assert mp == 'mp'\n",
    "                p1 = visit_statement(s1)\n",
    "                p2 = visit_statement(s2)\n",
    "                step_proof = ('mp', p1, p2)\n",
    "            else:\n",
    "                step_proof = statement.step_proof\n",
    "            \n",
    "            num = len(statements)\n",
    "            statements[statement] = (num, step_proof)\n",
    "            return num\n",
    "\n",
    "        visit_statement(self)\n",
    "        return Proof((i, st, pf) for (st, (i, pf)) in statements.items())"
   ]
  },
  {
   "cell_type": "code",
   "execution_count": 4,
   "metadata": {},
   "outputs": [],
   "source": [
    "class Implication(Statement):\n",
    "    def __init__(self, antecedent, consequent, proof=None):\n",
    "        self.antecedent = antecedent\n",
    "        self.consequent = consequent\n",
    "        self.step_proof = proof\n",
    "    \n",
    "    def __repr__(self):\n",
    "        return '({} → {})'.format(self.antecedent, self.consequent)\n",
    "    \n",
    "    def __eq__(self, other):\n",
    "        return (self.antecedent == other.antecedent) and (self.consequent == other.consequent)\n",
    "    \n",
    "    def __hash__(self):\n",
    "        return hash((self.antecedent, self.consequent))\n",
    "    \n",
    "    def __iter__(self):\n",
    "        yield self.antecedent\n",
    "        yield self.consequent"
   ]
  },
  {
   "cell_type": "code",
   "execution_count": 5,
   "metadata": {},
   "outputs": [],
   "source": [
    "class Symbol(Statement):\n",
    "    def __init__(self, name, proof=None):\n",
    "        self.name = name\n",
    "        self.step_proof = proof\n",
    "        \n",
    "    def __repr__(self):\n",
    "        return self.name"
   ]
  },
  {
   "cell_type": "code",
   "execution_count": 6,
   "metadata": {},
   "outputs": [],
   "source": [
    "i = Implication\n",
    "s = Symbol"
   ]
  },
  {
   "cell_type": "code",
   "execution_count": 7,
   "metadata": {},
   "outputs": [],
   "source": [
    "def a1(a, b):\n",
    "    return i(a, i(b, a), 'axiom A1')"
   ]
  },
  {
   "cell_type": "code",
   "execution_count": 8,
   "metadata": {},
   "outputs": [],
   "source": [
    "def a2(a, b, c):\n",
    "    return i(i(a, i(b, c)), i(i(a, b), i(a, c)), 'axiom A2')"
   ]
  },
  {
   "cell_type": "code",
   "execution_count": 9,
   "metadata": {},
   "outputs": [],
   "source": [
    "def mp(p1, p2):\n",
    "    assert p2.antecedent == p1, 'needed {} but got {}'.format(p2.antecedent, p1)\n",
    "    p2.consequent.step_proof = ('mp', p1, p2)\n",
    "    return p2.consequent"
   ]
  },
  {
   "cell_type": "code",
   "execution_count": 37,
   "metadata": {},
   "outputs": [],
   "source": [
    "A,B,C='🐹🍊🍷'"
   ]
  },
  {
   "cell_type": "code",
   "execution_count": 38,
   "metadata": {},
   "outputs": [],
   "source": [
    "P1 = i(A, B, 'h1')\n",
    "P2 = i(B, C, 'h2')\n",
    "P3 = a2(A, B, C)\n",
    "P4 = a1(i(B, C), A)\n",
    "P5 = mp(P2, P4)\n",
    "P6 = mp(P5, P3)\n",
    "P7 = mp(P1, P6)"
   ]
  },
  {
   "cell_type": "code",
   "execution_count": 39,
   "metadata": {},
   "outputs": [],
   "source": [
    "P1 = s(A, 'h1')\n",
    "P2 = a1(P1, P1)\n",
    "P3 = mp(P1, P2)"
   ]
  },
  {
   "cell_type": "code",
   "execution_count": 40,
   "metadata": {},
   "outputs": [],
   "source": [
    "P1 = i(A, B, 'h1')\n",
    "P2 = i(B, C, 'h2')\n",
    "P3 = a2(A, B, C)\n",
    "P4 = a1(i(B,C), A)\n",
    "P5 = mp(P2, P4)\n",
    "P6 = mp(P5, P3)\n",
    "P7 = mp(P1, P6)"
   ]
  },
  {
   "cell_type": "code",
   "execution_count": 41,
   "metadata": {},
   "outputs": [
    {
     "data": {
      "text/plain": [
       "B0: (🐹 → 🍊) \n",
       "    h1\n",
       "B1: (🍊 → 🍷) \n",
       "    h2\n",
       "B2: ((🍊 → 🍷) → (🐹 → (🍊 → 🍷))) \n",
       "    axiom A1\n",
       "B3: (🐹 → (🍊 → 🍷)) \n",
       "    Application of MP to B1 and B2\n",
       "B4: ((🐹 → (🍊 → 🍷)) → ((🐹 → 🍊) → (🐹 → 🍷))) \n",
       "    axiom A2\n",
       "B5: ((🐹 → 🍊) → (🐹 → 🍷)) \n",
       "    Application of MP to B3 and B4\n",
       "B6: (🐹 → 🍷) \n",
       "    Application of MP to B0 and B5"
      ]
     },
     "execution_count": 41,
     "metadata": {},
     "output_type": "execute_result"
    }
   ],
   "source": [
    "P7.proof"
   ]
  },
  {
   "cell_type": "code",
   "execution_count": 42,
   "metadata": {},
   "outputs": [],
   "source": [
    "def deduction(a_implies_b, b_implies_c):\n",
    "    a, b = a_implies_b\n",
    "    b1, c = b_implies_c\n",
    "    assert b == b1\n",
    "    \n",
    "    P3 = a2(a, b, c)\n",
    "    P4 = a1(i(b, c), a)\n",
    "    P5 = mp(b_implies_c, P4)\n",
    "    P6 = mp(P5, P3)\n",
    "    P7 = mp(a_implies_b, P6)\n",
    "    return P7"
   ]
  },
  {
   "cell_type": "code",
   "execution_count": 43,
   "metadata": {},
   "outputs": [
    {
     "data": {
      "text/plain": [
       "B0: (🍷 → 🐹) \n",
       "    h1\n",
       "B1: (🐹 → 🍊) \n",
       "    h2\n",
       "B2: ((🐹 → 🍊) → (🍷 → (🐹 → 🍊))) \n",
       "    axiom A1\n",
       "B3: (🍷 → (🐹 → 🍊)) \n",
       "    Application of MP to B1 and B2\n",
       "B4: ((🍷 → (🐹 → 🍊)) → ((🍷 → 🐹) → (🍷 → 🍊))) \n",
       "    axiom A2\n",
       "B5: ((🍷 → 🐹) → (🍷 → 🍊)) \n",
       "    Application of MP to B3 and B4\n",
       "B6: (🍷 → 🍊) \n",
       "    Application of MP to B0 and B5"
      ]
     },
     "execution_count": 43,
     "metadata": {},
     "output_type": "execute_result"
    }
   ],
   "source": [
    "deduction(i(C, A, 'h1'), i(A, B, 'h2')).proof"
   ]
  },
  {
   "cell_type": "code",
   "execution_count": 44,
   "metadata": {},
   "outputs": [],
   "source": [
    "P0 = i(A, i(B, C), 'hypothesis')\n",
    "P1 = a2(A, B, C)\n",
    "P2 = mp(P0, P1)\n",
    "P3 = a1(B, A)\n",
    "P4 = deduction(P3, P2)"
   ]
  },
  {
   "cell_type": "code",
   "execution_count": 46,
   "metadata": {},
   "outputs": [
    {
     "data": {
      "text/plain": [
       "(🍊 → (🐹 → 🍷))"
      ]
     },
     "execution_count": 46,
     "metadata": {},
     "output_type": "execute_result"
    }
   ],
   "source": [
    "P4"
   ]
  },
  {
   "cell_type": "code",
   "execution_count": 45,
   "metadata": {},
   "outputs": [
    {
     "data": {
      "text/plain": [
       "B0: (🍊 → (🐹 → 🍊)) \n",
       "    axiom A1\n",
       "B1: (🐹 → (🍊 → 🍷)) \n",
       "    hypothesis\n",
       "B2: ((🐹 → (🍊 → 🍷)) → ((🐹 → 🍊) → (🐹 → 🍷))) \n",
       "    axiom A2\n",
       "B3: ((🐹 → 🍊) → (🐹 → 🍷)) \n",
       "    Application of MP to B1 and B2\n",
       "B4: (((🐹 → 🍊) → (🐹 → 🍷)) → (🍊 → ((🐹 → 🍊) → (🐹 → 🍷)))) \n",
       "    axiom A1\n",
       "B5: (🍊 → ((🐹 → 🍊) → (🐹 → 🍷))) \n",
       "    Application of MP to B3 and B4\n",
       "B6: ((🍊 → ((🐹 → 🍊) → (🐹 → 🍷))) → ((🍊 → (🐹 → 🍊)) → (🍊 → (🐹 → 🍷)))) \n",
       "    axiom A2\n",
       "B7: ((🍊 → (🐹 → 🍊)) → (🍊 → (🐹 → 🍷))) \n",
       "    Application of MP to B5 and B6\n",
       "B8: (🍊 → (🐹 → 🍷)) \n",
       "    Application of MP to B0 and B7"
      ]
     },
     "execution_count": 45,
     "metadata": {},
     "output_type": "execute_result"
    }
   ],
   "source": [
    "P4.proof"
   ]
  },
  {
   "cell_type": "code",
   "execution_count": null,
   "metadata": {},
   "outputs": [],
   "source": []
  }
 ],
 "metadata": {
  "kernelspec": {
   "display_name": "Python 3",
   "language": "python",
   "name": "python3"
  },
  "language_info": {
   "codemirror_mode": {
    "name": "ipython",
    "version": 3
   },
   "file_extension": ".py",
   "mimetype": "text/x-python",
   "name": "python",
   "nbconvert_exporter": "python",
   "pygments_lexer": "ipython3",
   "version": "3.6.1"
  }
 },
 "nbformat": 4,
 "nbformat_minor": 2
}
